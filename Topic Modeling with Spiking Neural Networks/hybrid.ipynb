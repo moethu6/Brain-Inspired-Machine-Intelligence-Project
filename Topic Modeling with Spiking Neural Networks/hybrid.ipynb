{
 "cells": [
  {
   "cell_type": "code",
   "execution_count": 1,
   "id": "6363cb51",
   "metadata": {},
   "outputs": [],
   "source": [
    "import time\n",
    "import torch\n",
    "import gensim\n",
    "import numpy as np\n",
    "\n",
    "from torch.utils.data import DataLoader\n",
    "from torch import optim\n",
    "\n",
    "from torchtext.data import utils\n",
    "\n",
    "from sklearn.metrics import precision_score, recall_score, f1_score"
   ]
  },
  {
   "cell_type": "code",
   "execution_count": 2,
   "id": "1198271d",
   "metadata": {},
   "outputs": [],
   "source": [
    "from dataset import AbstractDataset\n",
    "from util import load_model_and_opt, batch_predict, load_from_cnn\n",
    "from snn_util import AbstractHybrid, SpikingBCELoss, forward_pass, train_model"
   ]
  },
  {
   "cell_type": "code",
   "execution_count": 6,
   "id": "19da662b",
   "metadata": {},
   "outputs": [],
   "source": [
    "DEVICE = (f'cuda:0' if torch.cuda.is_available() else 'cpu')\n",
    "HOME = '/home/hice1/khom9/CSE 8803 BMI Final Project'\n",
    "CNN_VERSION = 6\n",
    "# Path to the saved word embeddings file\n",
    "EMBED_KEYS_PATH = f'{HOME}/wordvectors/abstracts200_trained_normalized_{CNN_VERSION}.wordvectors'"
   ]
  },
  {
   "cell_type": "code",
   "execution_count": 7,
   "id": "50fb4c98",
   "metadata": {},
   "outputs": [
    {
     "name": "stdout",
     "output_type": "stream",
     "text": [
      "Using device cuda:0\n",
      "Tesla V100-PCIE-16GB\n"
     ]
    }
   ],
   "source": [
    "print(f'Using device {DEVICE}')\n",
    "if torch.cuda.is_available():\n",
    "    print(torch.cuda.get_device_name())"
   ]
  },
  {
   "cell_type": "code",
   "execution_count": 8,
   "id": "e1749bda",
   "metadata": {},
   "outputs": [
    {
     "name": "stderr",
     "output_type": "stream",
     "text": [
      "100%|██████████| 23250/23250 [00:22<00:00, 1029.67it/s]\n"
     ]
    }
   ],
   "source": [
    "tk = utils.get_tokenizer('spacy') # use spacey tokenizer\n",
    "wv = gensim.models.KeyedVectors.load(EMBED_KEYS_PATH, mmap='r') # Get the saved word vectors matrix\n",
    "null_word = '\\0' # Will be used to pad all abstracts to the same length (669 words)\n",
    "d = AbstractDataset(f'{HOME}/CleanedAVdata.csv', 'Abstract', 'IPCR Classifications', tk, wv.key_to_index,\n",
    "                    null_word=null_word, min_len=30, verbose=True) # PyTorch dataset for abstracts & their labels"
   ]
  },
  {
   "cell_type": "code",
   "execution_count": 10,
   "id": "de0f1c7e",
   "metadata": {},
   "outputs": [
    {
     "ename": "TypeError",
     "evalue": "SpikingBCELoss.__init__() got an unexpected keyword argument 'is_logits'",
     "output_type": "error",
     "traceback": [
      "\u001b[0;31m---------------------------------------------------------------------------\u001b[0m",
      "\u001b[0;31mTypeError\u001b[0m                                 Traceback (most recent call last)",
      "Cell \u001b[0;32mIn[10], line 19\u001b[0m\n\u001b[1;32m     15\u001b[0m pos_weight \u001b[38;5;241m=\u001b[39m (d\u001b[38;5;241m.\u001b[39mlabels\u001b[38;5;241m.\u001b[39mshape[\u001b[38;5;241m0\u001b[39m] \u001b[38;5;241m-\u001b[39m num_pos) \u001b[38;5;241m/\u001b[39m num_pos\n\u001b[1;32m     16\u001b[0m \u001b[38;5;66;03m# loss_fn = nn.BCEWithLogitsLoss(pos_weight=pos_weight.squeeze().to(DEVICE))\u001b[39;00m\n\u001b[1;32m     17\u001b[0m \u001b[38;5;66;03m# loss_fn = snn.functional.ce_rate_loss()\u001b[39;00m\n\u001b[1;32m     18\u001b[0m \u001b[38;5;66;03m# loss_fn = nn.BCELoss(weight=pos_weight.to(DEVICE))\u001b[39;00m\n\u001b[0;32m---> 19\u001b[0m loss_fn \u001b[38;5;241m=\u001b[39m \u001b[43mSpikingBCELoss\u001b[49m\u001b[43m(\u001b[49m\u001b[43mpos_weight\u001b[49m\u001b[38;5;241;43m=\u001b[39;49m\u001b[43mpos_weight\u001b[49m\u001b[38;5;241;43m.\u001b[39;49m\u001b[43msqueeze\u001b[49m\u001b[43m(\u001b[49m\u001b[43m)\u001b[49m\u001b[38;5;241;43m.\u001b[39;49m\u001b[43mto\u001b[49m\u001b[43m(\u001b[49m\u001b[43mDEVICE\u001b[49m\u001b[43m)\u001b[49m\u001b[43m,\u001b[49m\u001b[43m \u001b[49m\u001b[43mis_logits\u001b[49m\u001b[38;5;241;43m=\u001b[39;49m\u001b[38;5;28;43;01mTrue\u001b[39;49;00m\u001b[43m)\u001b[49m\n",
      "\u001b[0;31mTypeError\u001b[0m: SpikingBCELoss.__init__() got an unexpected keyword argument 'is_logits'"
     ]
    }
   ],
   "source": [
    "batch_size = 48\n",
    "beta = 1.0\n",
    "lr = 1e-3\n",
    "T = 45\n",
    "\n",
    "save_path = f'{HOME}/models/hybrid.pth'\n",
    "cnn_path = f'{HOME}/models/cnn_model-{CNN_VERSION}.pth'\n",
    "cnn_act_path = f'{HOME}/models/cnn_model-{CNN_VERSION}-max-activations.pkl'\n",
    "\n",
    "loader = DataLoader(d, batch_size=batch_size, shuffle=True)\n",
    "model = AbstractHybrid(T, EMBED_KEYS_PATH, null_word=null_word, beta=beta).to(DEVICE)\n",
    "\n",
    "# Create a positive weight, such that we punish the model heavily for guessing 0 all the time.\n",
    "num_pos = d.labels.sum(axis=0, keepdim=True).to_dense()\n",
    "pos_weight = (d.labels.shape[0] - num_pos) / num_pos\n",
    "# loss_fn = nn.BCEWithLogitsLoss(pos_weight=pos_weight.squeeze().to(DEVICE))\n",
    "# loss_fn = snn.functional.ce_rate_loss()\n",
    "# loss_fn = nn.BCELoss(weight=pos_weight.to(DEVICE))\n",
    "loss_fn = SpikingBCELoss(pos_weight=pos_weight.squeeze().to(DEVICE), is_logits=True)"
   ]
  },
  {
   "cell_type": "code",
   "execution_count": null,
   "id": "312c1d76",
   "metadata": {},
   "outputs": [],
   "source": [
    "model = load_from_cnn(model, cnn_path, cnn_act_path)\n",
    "optimizer = optim.Adam(model.parameters(), lr=lr)\n",
    "model, optimizer = load_model_and_opt(model, optimizer, save_path)\n",
    "scheduler = optim.lr_scheduler.StepLR(optimizer, step_size=50, gamma=0.5)\n",
    "# optimizer.param_groups[0]['lr'] = 5e-5"
   ]
  },
  {
   "cell_type": "code",
   "execution_count": null,
   "id": "78b74df1",
   "metadata": {},
   "outputs": [],
   "source": [
    "epochs = 250\n",
    "train_model(model, optimizer, loss_fn, T=T, epochs=epochs, batch_size=batch_size, save_freq=25, save_path=save_path, \n",
    "            scheduler=scheduler)"
   ]
  },
  {
   "cell_type": "code",
   "execution_count": null,
   "id": "005e1cb4",
   "metadata": {},
   "outputs": [],
   "source": [
    "pred = (batch_predict(model, d.abst_data, T))\n",
    "pred_spk = (torch.sigmoid(pred.mean(dim=0)) > 0.5).type(torch.float)\n",
    "true = d.labels.to_dense()"
   ]
  },
  {
   "cell_type": "code",
   "execution_count": null,
   "id": "0b88df42",
   "metadata": {},
   "outputs": [],
   "source": [
    "start = time.time()\n",
    "total_loss = []\n",
    "loss_fn_cpu = loss_fn.to('cpu')\n",
    "for i in range(len(d)):\n",
    "    total_loss.append(loss_fn_cpu(pred_spk[i].unsqueeze(0), true[i]).item())\n",
    "    \n",
    "print(f'Total avg loss: {np.mean(total_loss)}')"
   ]
  },
  {
   "cell_type": "code",
   "execution_count": null,
   "id": "489623e5",
   "metadata": {},
   "outputs": [],
   "source": [
    "# Print a sample prediction and true label\n",
    "i = 8721 #8721 #18722\n",
    "txt, label = d[i]\n",
    "# txt = txt.unsqueeze(0)\n",
    "loss_fn = loss_fn.to(DEVICE)\n",
    "label = label.unsqueeze(0)\n",
    "\n",
    "print(loss_fn(forward_pass(model, T, txt.to(DEVICE)).detach(), label.to(DEVICE)).item())\n",
    "print(torch.cat([forward_pass(model, T, txt.to(DEVICE)).mean(dim=0).detach(), label.to(DEVICE)]).T)\n"
   ]
  },
  {
   "cell_type": "code",
   "execution_count": null,
   "id": "421cdd41",
   "metadata": {},
   "outputs": [],
   "source": [
    "print(precision_score(true, pred_spk, average=None))\n",
    "print(f'Total precision: {precision_score(true, pred_spk, average=\"weighted\")}')"
   ]
  },
  {
   "cell_type": "code",
   "execution_count": null,
   "id": "b0f13d60",
   "metadata": {},
   "outputs": [],
   "source": [
    "print(recall_score(true, pred_spk, average=None))\n",
    "print(f'Total recall: {recall_score(true, pred_spk, average=\"weighted\")}')"
   ]
  },
  {
   "cell_type": "code",
   "execution_count": null,
   "id": "05dd4d7d",
   "metadata": {},
   "outputs": [],
   "source": [
    "print(f'Total F1 score: {f1_score(true, pred_spk, average=\"weighted\")}')"
   ]
  },
  {
   "cell_type": "code",
   "execution_count": null,
   "id": "ca04ca99",
   "metadata": {},
   "outputs": [],
   "source": []
  },
  {
   "cell_type": "markdown",
   "id": "4b65aa81",
   "metadata": {},
   "source": [
    "# "
   ]
  }
 ],
 "metadata": {
  "kernelspec": {
   "display_name": "Python 3 (ipykernel)",
   "language": "python",
   "name": "python3"
  },
  "language_info": {
   "codemirror_mode": {
    "name": "ipython",
    "version": 3
   },
   "file_extension": ".py",
   "mimetype": "text/x-python",
   "name": "python",
   "nbconvert_exporter": "python",
   "pygments_lexer": "ipython3",
   "version": "3.10.12"
  }
 },
 "nbformat": 4,
 "nbformat_minor": 5
}
