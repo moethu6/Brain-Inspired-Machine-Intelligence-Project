{
 "cells": [
  {
   "cell_type": "code",
   "execution_count": 1,
   "id": "6363cb51",
   "metadata": {},
   "outputs": [],
   "source": [
    "import time\n",
    "import torch\n",
    "import gensim\n",
    "import numpy as np\n",
    "import snntorch as snn\n",
    "\n",
    "from snntorch import functional as SF, utils as snnutils\n",
    "import snntorch.functional.loss as snnloss\n",
    "\n",
    "from torch.utils.data import DataLoader\n",
    "from torch import nn, optim\n",
    "from torch.nn import Parameter\n",
    "\n",
    "from torchtext.data import utils\n",
    "from collections import OrderedDict\n",
    "\n",
    "from sklearn.metrics import precision_score, recall_score, f1_score"
   ]
  },
  {
   "cell_type": "code",
   "execution_count": 2,
   "id": "1198271d",
   "metadata": {},
   "outputs": [],
   "source": [
    "from dataset import AbstractDataset\n",
    "from util import load_model_and_opt, save_model, batch_predict, load_from_cnn\n",
    "from snn_util import AbstractHybrid, SpikingBCELoss, forward_pass, train_model"
   ]
  },
  {
   "cell_type": "code",
   "execution_count": 4,
   "id": "19da662b",
   "metadata": {},
   "outputs": [],
   "source": [
    "DEVICE = (f'cuda:0' if torch.cuda.is_available() else 'cpu')\n",
    "HOME = '/home/hice1/khom9/CSE 8803 BMI Final Project'\n",
    "CNN_VERSION = 3\n",
    "# Path to the saved word embeddings file\n",
    "EMBED_KEYS_PATH = f'{HOME}/abstracts200_trained_normalized_{CNN_VERSION}.wordvectors'"
   ]
  },
  {
   "cell_type": "code",
   "execution_count": null,
   "id": "8d9b4694",
   "metadata": {},
   "outputs": [],
   "source": [
    "print(f'Using device {DEVICE}')\n",
    "if torch.cuda.is_available():\n",
    "    print(torch.cuda.get_device_name())"
   ]
  },
  {
   "cell_type": "code",
   "execution_count": 5,
   "id": "e1749bda",
   "metadata": {},
   "outputs": [
    {
     "name": "stderr",
     "output_type": "stream",
     "text": [
      "/usr/local/lib/python3.10/dist-packages/torchtext/data/utils.py:105: UserWarning: Spacy model \"en\" could not be loaded, trying \"en_core_web_sm\" instead\n",
      "  warnings.warn(\n",
      "/home/hice1/khom9/CSE 8803 BMI Final Project/dataset.py:38: UserWarning: Sparse CSR tensor support is in beta state. If you miss a functionality in the sparse tensor support, please submit a feature request to https://github.com/pytorch/pytorch/issues. (Triggered internally at /opt/pytorch/pytorch/aten/src/ATen/SparseCsrTensorImpl.cpp:53.)\n",
      "  self.labels = torch.tensor(mlb.fit_transform(classes)).to_sparse_csr().type(torch.float)\n"
     ]
    }
   ],
   "source": [
    "tk = utils.get_tokenizer('spacy') # use spacey tokenizer\n",
    "wv = gensim.models.KeyedVectors.load(EMBED_KEYS_PATH, mmap='r') # Get the saved word vectors matrix\n",
    "null_word = '\\0' # Will be used to pad all abstracts to the same length (669 words)\n",
    "d = AbstractDataset(f'{HOME}/CleanedAVdata.csv', 'Abstract', 'IPCR Classifications', tk, wv.key_to_index,\n",
    "                    null_word=null_word, min_len=30) # PyTorch dataset for abstracts & their labels"
   ]
  },
  {
   "cell_type": "code",
   "execution_count": 11,
   "id": "de0f1c7e",
   "metadata": {},
   "outputs": [],
   "source": [
    "batch_size = 48\n",
    "beta = 1.0\n",
    "lr = 1e-3\n",
    "T = 45\n",
    "\n",
    "save_path = f'{HOME}/hybrid.pth'\n",
    "cnn_path = f'{HOME}/cnn_model-{CNN_VERSION}.pth'\n",
    "cnn_act_path = f'{HOME}/cnn_model-{CNN_VERSION}-max-activations.pkl'\n",
    "\n",
    "loader = DataLoader(d, batch_size=batch_size, shuffle=True)\n",
    "model = AbstractSNN_2(T, EMBED_KEYS_PATH, null_word=null_word, beta=beta).to(DEVICE)\n",
    "\n",
    "# Create a positive weight, such that we punish the model heavily for guessing 0 all the time.\n",
    "num_pos = d.labels.sum(axis=0, keepdim=True).to_dense()\n",
    "pos_weight = (d.labels.shape[0] - num_pos) / num_pos\n",
    "# loss_fn = nn.BCEWithLogitsLoss(pos_weight=pos_weight.squeeze().to(DEVICE))\n",
    "# loss_fn = snn.functional.ce_rate_loss()\n",
    "# loss_fn = nn.BCELoss(weight=pos_weight.to(DEVICE))\n",
    "loss_fn = SpikingBCELoss(pos_weight=pos_weight.squeeze().to(DEVICE), is_logits=True)"
   ]
  },
  {
   "cell_type": "code",
   "execution_count": 13,
   "id": "312c1d76",
   "metadata": {},
   "outputs": [],
   "source": [
    "model = load_from_cnn(model, cnn_path, cnn_act_path)\n",
    "optimizer = optim.Adam(model.parameters(), lr=lr)\n",
    "model, optimizer = load_model_and_opt(model, optimizer, save_path)\n",
    "scheduler = optim.lr_scheduler.StepLR(optimizer, step_size=50, gamma=0.5)\n",
    "# optimizer.param_groups[0]['lr'] = 5e-5"
   ]
  },
  {
   "cell_type": "code",
   "execution_count": 14,
   "id": "78b74df1",
   "metadata": {},
   "outputs": [],
   "source": [
    "epochs = 250\n",
    "train_model(model, optimizer, loss_fn, T=T, epochs=epochs, batch_size=batch_size, save_freq=25, save_path=save_path, \n",
    "            scheduler=scheduler)"
   ]
  },
  {
   "cell_type": "code",
   "execution_count": 15,
   "id": "fe107f5e",
   "metadata": {},
   "outputs": [],
   "source": [
    "# save_path = f'.pth'\n",
    "# save_model(save_path, model, optimizer, epochs)\n",
    "# print(f'Saved to {save_path}')"
   ]
  },
  {
   "cell_type": "code",
   "execution_count": 16,
   "id": "005e1cb4",
   "metadata": {},
   "outputs": [],
   "source": [
    "pred = (batch_predict(model, d.abst_data, T))\n",
    "pred_spk = (torch.sigmoid(pred.mean(dim=0)) > 0.5).type(torch.float)\n",
    "true = d.labels.to_dense()"
   ]
  },
  {
   "cell_type": "code",
   "execution_count": 17,
   "id": "0b88df42",
   "metadata": {},
   "outputs": [
    {
     "name": "stdout",
     "output_type": "stream",
     "text": [
      "Total avg loss: 1.0346547530415238\n"
     ]
    }
   ],
   "source": [
    "start = time.time()\n",
    "total_loss = []\n",
    "loss_fn_cpu = loss_fn.to('cpu')\n",
    "for i in range(len(d)):\n",
    "    total_loss.append(loss_fn_cpu(pred_spk[i].unsqueeze(0), true[i]).item())\n",
    "    \n",
    "print(f'Total avg loss: {np.mean(total_loss)}')"
   ]
  },
  {
   "cell_type": "code",
   "execution_count": 18,
   "id": "489623e5",
   "metadata": {},
   "outputs": [
    {
     "name": "stdout",
     "output_type": "stream",
     "text": [
      "0.06382208317518234\n",
      "tensor([[-6.8264e+00,  0.0000e+00],\n",
      "        [-4.8714e+01,  0.0000e+00],\n",
      "        [-5.1413e+01,  0.0000e+00],\n",
      "        [-5.1380e+01,  0.0000e+00],\n",
      "        [-5.0150e+01,  0.0000e+00],\n",
      "        [-5.3921e+01,  0.0000e+00],\n",
      "        [-4.5920e+01,  0.0000e+00],\n",
      "        [-8.4808e+00,  0.0000e+00],\n",
      "        [-7.7649e+00,  0.0000e+00],\n",
      "        [-1.9163e+01,  0.0000e+00],\n",
      "        [-5.6534e+00,  0.0000e+00],\n",
      "        [-3.6959e+01,  0.0000e+00],\n",
      "        [-4.6629e+01,  0.0000e+00],\n",
      "        [-1.6779e+01,  0.0000e+00],\n",
      "        [-5.2093e+01,  0.0000e+00],\n",
      "        [-4.9298e+01,  0.0000e+00],\n",
      "        [-1.6542e+01,  0.0000e+00],\n",
      "        [-4.6774e+01,  0.0000e+00],\n",
      "        [-4.5695e+01,  0.0000e+00],\n",
      "        [-3.1242e+01,  0.0000e+00],\n",
      "        [-9.8940e+00,  0.0000e+00],\n",
      "        [-4.8375e+01,  0.0000e+00],\n",
      "        [-2.7642e+01,  0.0000e+00],\n",
      "        [-4.7604e+01,  0.0000e+00],\n",
      "        [-5.0324e+01,  0.0000e+00],\n",
      "        [-4.7742e+01,  0.0000e+00],\n",
      "        [-5.4373e+01,  0.0000e+00],\n",
      "        [-4.9277e+01,  0.0000e+00],\n",
      "        [-4.6133e+01,  0.0000e+00],\n",
      "        [-4.3238e+01,  0.0000e+00],\n",
      "        [ 2.7528e-01,  0.0000e+00],\n",
      "        [-1.5652e+01,  0.0000e+00],\n",
      "        [-4.1462e-02,  0.0000e+00],\n",
      "        [-5.9126e+00,  0.0000e+00],\n",
      "        [-6.1586e+00,  0.0000e+00],\n",
      "        [-1.7896e+01,  0.0000e+00],\n",
      "        [-1.2886e+01,  0.0000e+00],\n",
      "        [-3.4066e+01,  0.0000e+00],\n",
      "        [-4.8393e+01,  0.0000e+00],\n",
      "        [-5.1411e+01,  0.0000e+00],\n",
      "        [-4.6621e+01,  0.0000e+00],\n",
      "        [-5.0131e+01,  0.0000e+00],\n",
      "        [-5.2705e+01,  0.0000e+00],\n",
      "        [-4.8825e+01,  0.0000e+00],\n",
      "        [-4.0221e+01,  0.0000e+00],\n",
      "        [-4.9879e+01,  0.0000e+00],\n",
      "        [-4.7669e+01,  0.0000e+00],\n",
      "        [-4.8877e+01,  0.0000e+00],\n",
      "        [-4.9840e+01,  0.0000e+00],\n",
      "        [-4.9630e+01,  0.0000e+00],\n",
      "        [-4.9413e+01,  0.0000e+00],\n",
      "        [-5.0540e+01,  0.0000e+00],\n",
      "        [-3.8318e+01,  0.0000e+00],\n",
      "        [-1.3118e+01,  0.0000e+00],\n",
      "        [-1.4641e+01,  0.0000e+00],\n",
      "        [-4.3117e+01,  0.0000e+00],\n",
      "        [-3.2407e+01,  0.0000e+00],\n",
      "        [-8.5612e+00,  0.0000e+00],\n",
      "        [-4.7457e+01,  0.0000e+00],\n",
      "        [-2.6285e+01,  0.0000e+00],\n",
      "        [-4.3119e+01,  0.0000e+00],\n",
      "        [-8.0156e+00,  0.0000e+00],\n",
      "        [-4.7839e+01,  0.0000e+00],\n",
      "        [-3.4249e+01,  0.0000e+00],\n",
      "        [-4.7398e+01,  0.0000e+00],\n",
      "        [-1.1478e+01,  0.0000e+00],\n",
      "        [-4.3827e+01,  0.0000e+00],\n",
      "        [-3.4362e+01,  0.0000e+00],\n",
      "        [-1.4526e+01,  0.0000e+00],\n",
      "        [-9.2863e+00,  0.0000e+00],\n",
      "        [-4.7330e+01,  0.0000e+00],\n",
      "        [-3.8509e+01,  0.0000e+00],\n",
      "        [-4.8136e+01,  0.0000e+00],\n",
      "        [-4.8243e+01,  0.0000e+00],\n",
      "        [-1.1467e+00,  0.0000e+00],\n",
      "        [-1.3951e+01,  0.0000e+00],\n",
      "        [ 1.0998e+01,  1.0000e+00],\n",
      "        [-3.9616e+01,  0.0000e+00],\n",
      "        [-9.5613e-02,  0.0000e+00],\n",
      "        [-2.4897e+00,  0.0000e+00],\n",
      "        [-1.6124e+00,  0.0000e+00],\n",
      "        [-3.1012e+00,  0.0000e+00],\n",
      "        [-5.9852e+00,  0.0000e+00],\n",
      "        [-1.1364e+01,  0.0000e+00],\n",
      "        [-2.4728e+01,  0.0000e+00],\n",
      "        [-1.0271e+01,  0.0000e+00],\n",
      "        [-6.7266e+00,  0.0000e+00],\n",
      "        [-6.5860e+00,  0.0000e+00],\n",
      "        [-1.3354e+01,  0.0000e+00],\n",
      "        [-3.9080e+00,  0.0000e+00],\n",
      "        [-4.4378e+01,  0.0000e+00]], device='cuda:0')\n"
     ]
    }
   ],
   "source": [
    "# Print a sample prediction and true label\n",
    "i = 8721 #8721 #18722\n",
    "txt, label = d[i]\n",
    "# txt = txt.unsqueeze(0)\n",
    "loss_fn = loss_fn.to(DEVICE)\n",
    "label = label.unsqueeze(0)\n",
    "\n",
    "print(loss_fn(forward_pass(model, T, txt.to(DEVICE)).detach(), label.to(DEVICE)).item())\n",
    "print(torch.cat([forward_pass(model, T, txt.to(DEVICE)).mean(dim=0).detach(), label.to(DEVICE)]).T)\n"
   ]
  },
  {
   "cell_type": "code",
   "execution_count": 19,
   "id": "421cdd41",
   "metadata": {},
   "outputs": [
    {
     "name": "stderr",
     "output_type": "stream",
     "text": [
      "/usr/local/lib/python3.10/dist-packages/sklearn/metrics/_classification.py:1497: UndefinedMetricWarning: Precision is ill-defined and being set to 0.0 in labels with no predicted samples. Use `zero_division` parameter to control this behavior.\n",
      "  _warn_prf(average, modifier, f\"{metric.capitalize()} is\", len(result))\n"
     ]
    },
    {
     "name": "stdout",
     "output_type": "stream",
     "text": [
      "[0.41014493 0.         0.44       0.71428571 0.375      1.\n",
      " 0.55555556 0.50834598 0.49651325 0.4137931  0.53977273 0.69230769\n",
      " 0.2        0.66666667 0.83333333 0.         0.44144144 0.58823529\n",
      " 0.33333333 0.58536585 0.51832461 0.         0.71428571 0.33333333\n",
      " 0.56521739 0.4        0.53333333 0.56521739 0.33333333 0.5\n",
      " 0.77800424 0.52747253 0.45326504 0.34020619 0.47452229 0.47986577\n",
      " 0.45539906 0.57894737 0.         0.5        0.21428571 0.33333333\n",
      " 0.30769231 1.         0.75       0.33333333 0.5        1.\n",
      " 0.5        1.         0.66666667 0.5        0.61904762 0.47826087\n",
      " 0.38709677 0.33333333 0.42201835 0.43258427 0.85714286 0.43478261\n",
      " 0.57627119 0.50413223 0.4375     0.425      0.6        0.33935743\n",
      " 0.75       0.6043956  0.525      0.41304348 0.         0.47619048\n",
      " 0.41666667 0.42857143 0.62014013 0.47744361 0.63636364 0.52631579\n",
      " 0.66647635 0.7346983  0.48343648 0.53342028 0.40345369 0.54029851\n",
      " 0.47142857 0.52755906 0.44026549 0.41246291 0.42307692 0.66152614\n",
      " 0.47474747]\n",
      "Total precision: 0.6612738719056646\n"
     ]
    },
    {
     "name": "stderr",
     "output_type": "stream",
     "text": [
      "/usr/local/lib/python3.10/dist-packages/sklearn/metrics/_classification.py:1497: UndefinedMetricWarning: Precision is ill-defined and being set to 0.0 in labels with no predicted samples. Use `zero_division` parameter to control this behavior.\n",
      "  _warn_prf(average, modifier, f\"{metric.capitalize()} is\", len(result))\n"
     ]
    }
   ],
   "source": [
    "print(precision_score(true, pred_spk, average=None))\n",
    "print(f'Total precision: {precision_score(true, pred_spk, average=\"weighted\")}')"
   ]
  },
  {
   "cell_type": "code",
   "execution_count": 20,
   "id": "b0f13d60",
   "metadata": {},
   "outputs": [
    {
     "name": "stdout",
     "output_type": "stream",
     "text": [
      "[0.99647887 0.         0.91666667 1.         1.         1.\n",
      " 1.         0.98820059 0.99164345 0.92307692 1.         0.85714286\n",
      " 0.33333333 1.         1.         0.         0.94230769 0.47619048\n",
      " 1.         0.6        0.96116505 0.         0.83333333 1.\n",
      " 0.54166667 1.         0.72727273 1.         1.         1.\n",
      " 0.78724633 0.97959184 0.98951782 1.         0.95819936 0.97945205\n",
      " 0.98979592 1.         0.         0.8        0.5        1.\n",
      " 0.8        1.         1.         0.88888889 1.         1.\n",
      " 1.         0.5        1.         1.         1.         1.\n",
      " 0.92307692 1.         0.93877551 1.         1.         1.\n",
      " 1.         0.98387097 0.875      1.         0.85714286 0.95480226\n",
      " 1.         1.         0.95454545 1.         0.         1.\n",
      " 0.90909091 1.         0.84342302 1.         1.         1.\n",
      " 0.73171751 0.79321637 0.98809524 0.92612511 1.         1.\n",
      " 1.         1.         1.         1.         1.         0.94832041\n",
      " 0.98947368]\n",
      "Total recall: 0.8333566056930841\n"
     ]
    }
   ],
   "source": [
    "print(recall_score(true, pred_spk, average=None))\n",
    "print(f'Total recall: {recall_score(true, pred_spk, average=\"weighted\")}')"
   ]
  },
  {
   "cell_type": "code",
   "execution_count": 21,
   "id": "05dd4d7d",
   "metadata": {},
   "outputs": [
    {
     "name": "stdout",
     "output_type": "stream",
     "text": [
      "Total F1 score: 0.7258079382167745\n"
     ]
    }
   ],
   "source": [
    "print(f'Total F1 score: {f1_score(true, pred_spk, average=\"weighted\")}')"
   ]
  },
  {
   "cell_type": "code",
   "execution_count": null,
   "id": "ca04ca99",
   "metadata": {},
   "outputs": [],
   "source": []
  },
  {
   "cell_type": "markdown",
   "id": "4b65aa81",
   "metadata": {},
   "source": [
    "# "
   ]
  }
 ],
 "metadata": {
  "kernelspec": {
   "display_name": "Python 3 (ipykernel)",
   "language": "python",
   "name": "python3"
  },
  "language_info": {
   "codemirror_mode": {
    "name": "ipython",
    "version": 3
   },
   "file_extension": ".py",
   "mimetype": "text/x-python",
   "name": "python",
   "nbconvert_exporter": "python",
   "pygments_lexer": "ipython3",
   "version": "3.10.12"
  }
 },
 "nbformat": 4,
 "nbformat_minor": 5
}
